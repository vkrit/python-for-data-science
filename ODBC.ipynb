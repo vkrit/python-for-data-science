{
 "cells": [
  {
   "cell_type": "code",
   "execution_count": 6,
   "metadata": {},
   "outputs": [
    {
     "ename": "Error",
     "evalue": "('01000', \"[01000] [unixODBC][Driver Manager]Can't open lib 'Microsoft Access Driver (*.mdb, *.accdb)' : file not found (0) (SQLDriverConnect)\")",
     "output_type": "error",
     "traceback": [
      "\u001b[0;31m---------------------------------------------------------------------------\u001b[0m",
      "\u001b[0;31mError\u001b[0m                                     Traceback (most recent call last)",
      "\u001b[0;32m<ipython-input-6-46ecbf3d0fa0>\u001b[0m in \u001b[0;36m<module>\u001b[0;34m\u001b[0m\n\u001b[1;32m     12\u001b[0m     \u001b[0;32mreturn\u001b[0m \u001b[0mpyodbc\u001b[0m\u001b[0;34m.\u001b[0m\u001b[0mconnect\u001b[0m\u001b[0;34m(\u001b[0m\u001b[0modbc_conn_str\u001b[0m\u001b[0;34m)\u001b[0m\u001b[0;34m\u001b[0m\u001b[0;34m\u001b[0m\u001b[0m\n\u001b[1;32m     13\u001b[0m \u001b[0;34m\u001b[0m\u001b[0m\n\u001b[0;32m---> 14\u001b[0;31m \u001b[0mconn\u001b[0m \u001b[0;34m=\u001b[0m \u001b[0mmdb_connect\u001b[0m\u001b[0;34m(\u001b[0m\u001b[0;34mr'''./Campaign_Template.mdb'''\u001b[0m\u001b[0;34m)\u001b[0m  \u001b[0;31m# only absolute paths!\u001b[0m\u001b[0;34m\u001b[0m\u001b[0;34m\u001b[0m\u001b[0m\n\u001b[0m",
      "\u001b[0;32m<ipython-input-6-46ecbf3d0fa0>\u001b[0m in \u001b[0;36mmdb_connect\u001b[0;34m(db_file, user, password, old_driver)\u001b[0m\n\u001b[1;32m     10\u001b[0m                      (driver_ver, db_file, user, password))\n\u001b[1;32m     11\u001b[0m \u001b[0;34m\u001b[0m\u001b[0m\n\u001b[0;32m---> 12\u001b[0;31m     \u001b[0;32mreturn\u001b[0m \u001b[0mpyodbc\u001b[0m\u001b[0;34m.\u001b[0m\u001b[0mconnect\u001b[0m\u001b[0;34m(\u001b[0m\u001b[0modbc_conn_str\u001b[0m\u001b[0;34m)\u001b[0m\u001b[0;34m\u001b[0m\u001b[0;34m\u001b[0m\u001b[0m\n\u001b[0m\u001b[1;32m     13\u001b[0m \u001b[0;34m\u001b[0m\u001b[0m\n\u001b[1;32m     14\u001b[0m \u001b[0mconn\u001b[0m \u001b[0;34m=\u001b[0m \u001b[0mmdb_connect\u001b[0m\u001b[0;34m(\u001b[0m\u001b[0;34mr'''./Campaign_Template.mdb'''\u001b[0m\u001b[0;34m)\u001b[0m  \u001b[0;31m# only absolute paths!\u001b[0m\u001b[0;34m\u001b[0m\u001b[0;34m\u001b[0m\u001b[0m\n",
      "\u001b[0;31mError\u001b[0m: ('01000', \"[01000] [unixODBC][Driver Manager]Can't open lib 'Microsoft Access Driver (*.mdb, *.accdb)' : file not found (0) (SQLDriverConnect)\")"
     ]
    }
   ],
   "source": [
    "import pyodbc\n",
    "\n",
    "def mdb_connect(db_file, user='admin', password = '', old_driver=False):\n",
    "    driver_ver = '*.mdb'\n",
    "    if not old_driver:\n",
    "        driver_ver += ', *.accdb'\n",
    "\n",
    "    odbc_conn_str = ('DRIVER={Microsoft Access Driver (%s)}'\n",
    "                     ';DBQ=%s;UID=%s;PWD=%s' %\n",
    "                     (driver_ver, db_file, user, password))\n",
    "\n",
    "    return pyodbc.connect(odbc_conn_str)\n",
    "\n",
    "conn = mdb_connect(r'''./Campaign_Template.mdb''')  # only absolute paths!\n"
   ]
  },
  {
   "cell_type": "code",
   "execution_count": null,
   "metadata": {},
   "outputs": [],
   "source": []
  }
 ],
 "metadata": {
  "kernelspec": {
   "display_name": "",
   "name": ""
  },
  "language_info": {
   "codemirror_mode": {
    "name": "ipython",
    "version": 3
   },
   "file_extension": ".py",
   "mimetype": "text/x-python",
   "name": "python",
   "nbconvert_exporter": "python",
   "pygments_lexer": "ipython3",
   "version": "3.7.3"
  }
 },
 "nbformat": 4,
 "nbformat_minor": 4
}
